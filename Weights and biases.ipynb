{
 "cells": [
  {
   "cell_type": "code",
   "execution_count": 15,
   "id": "69a12173-ada2-4a9b-bf6a-8a17eea30218",
   "metadata": {},
   "outputs": [
    {
     "name": "stdout",
     "output_type": "stream",
     "text": [
      "Tensor shape:  torch.Size([2, 3, 4])\n",
      "tensor(7)\n"
     ]
    }
   ],
   "source": [
    "import torch\n",
    "\n",
    "#Create  a simple tensor\n",
    "x = torch.tensor([[1,2], [3, 4]], dtype= torch.float32)\n",
    "\n",
    "\n",
    "y = torch.arange(24).reshape(2,3,4)\n",
    "print(\"Tensor shape: \", y.shape)\n",
    "print(y[0, 1, 3])"
   ]
  },
  {
   "cell_type": "code",
   "execution_count": null,
   "id": "ea28974b-cea3-4175-88ad-dc2adfa82b62",
   "metadata": {},
   "outputs": [],
   "source": []
  }
 ],
 "metadata": {
  "kernelspec": {
   "display_name": "Python [conda env:base] *",
   "language": "python",
   "name": "conda-base-py"
  },
  "language_info": {
   "codemirror_mode": {
    "name": "ipython",
    "version": 3
   },
   "file_extension": ".py",
   "mimetype": "text/x-python",
   "name": "python",
   "nbconvert_exporter": "python",
   "pygments_lexer": "ipython3",
   "version": "3.13.5"
  }
 },
 "nbformat": 4,
 "nbformat_minor": 5
}
