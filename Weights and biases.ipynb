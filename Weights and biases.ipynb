{
 "cells": [
  {
   "cell_type": "code",
   "execution_count": 2,
   "id": "69a12173-ada2-4a9b-bf6a-8a17eea30218",
   "metadata": {},
   "outputs": [
    {
     "name": "stdout",
     "output_type": "stream",
     "text": [
      "Input (x): tensor([1., 2., 3.])\n",
      "Weight (w): 2.0\n",
      "Bias (b): 0.5\n",
      "Output (y): tensor([2.5000, 4.5000, 6.5000], grad_fn=<AddBackward0>)\n"
     ]
    }
   ],
   "source": [
    "import torch\n",
    "\n",
    "# Using Dummy input: house size in 1000 sq ft\n",
    "x = torch.tensor([1.0, 2.0, 3.0])  \n",
    "\n",
    "# Defining weight and bias\n",
    "w = torch.tensor(2.0, requires_grad=True)   # slope\n",
    "b = torch.tensor(0.5, requires_grad=True)   # intercept\n",
    "\n",
    "# Computing output (linear model)\n",
    "y = w * x + b\n",
    "\n",
    "print(\"Input (x):\", x)\n",
    "print(\"Weight (w):\", w.item())\n",
    "print(\"Bias (b):\", b.item())\n",
    "print(\"Output (y):\", y)"
   ]
  },
  {
   "cell_type": "code",
   "execution_count": null,
   "id": "ea28974b-cea3-4175-88ad-dc2adfa82b62",
   "metadata": {},
   "outputs": [],
   "source": []
  }
 ],
 "metadata": {
  "kernelspec": {
   "display_name": "Python [conda env:base] *",
   "language": "python",
   "name": "conda-base-py"
  },
  "language_info": {
   "codemirror_mode": {
    "name": "ipython",
    "version": 3
   },
   "file_extension": ".py",
   "mimetype": "text/x-python",
   "name": "python",
   "nbconvert_exporter": "python",
   "pygments_lexer": "ipython3",
   "version": "3.13.5"
  }
 },
 "nbformat": 4,
 "nbformat_minor": 5
}
