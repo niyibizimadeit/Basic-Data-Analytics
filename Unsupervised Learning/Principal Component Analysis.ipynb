{
 "cells": [
  {
   "cell_type": "code",
   "execution_count": 6,
   "id": "99dee0ab-3e1f-4174-8c42-02a10034c01d",
   "metadata": {},
   "outputs": [
    {
     "name": "stdout",
     "output_type": "stream",
     "text": [
      "Explained variance ratio [0.92461872 0.05306648 0.01710261 0.00521218]\n",
      "Cumulative explained variance [0.92461872 0.97768521 0.99478782 1.        ]\n"
     ]
    }
   ],
   "source": [
    "from sklearn.decomposition import PCA\n",
    "from sklearn.datasets import load_iris\n",
    "import numpy as np\n",
    "import matplotlib.pyplot as plt\n",
    "\n",
    "#loading the samole dataset\n",
    "iris = load_iris()\n",
    "X = iris.data\n",
    "\n",
    "#Fit PCA without limits\n",
    "pca = PCA().fit(X)\n",
    "\n",
    "#Explained variance ratio\n",
    "print(\"Explained variance ratio\", pca.explained_variance_ratio_)\n",
    "\n",
    "#Cumulative variance\n",
    "cum_var = np.cumsum(pca.explained_variance_ratio_)\n",
    "print(\"Cumulative explained variance\", cum_var)"
   ]
  },
  {
   "cell_type": "code",
   "execution_count": null,
   "id": "efe2712e-6268-490c-a931-a066c6d8b01c",
   "metadata": {},
   "outputs": [],
   "source": []
  }
 ],
 "metadata": {
  "kernelspec": {
   "display_name": "Python [conda env:base] *",
   "language": "python",
   "name": "conda-base-py"
  },
  "language_info": {
   "codemirror_mode": {
    "name": "ipython",
    "version": 3
   },
   "file_extension": ".py",
   "mimetype": "text/x-python",
   "name": "python",
   "nbconvert_exporter": "python",
   "pygments_lexer": "ipython3",
   "version": "3.13.5"
  }
 },
 "nbformat": 4,
 "nbformat_minor": 5
}
