{
 "cells": [
  {
   "cell_type": "code",
   "execution_count": null,
   "id": "99dee0ab-3e1f-4174-8c42-02a10034c01d",
   "metadata": {},
   "outputs": [],
   "source": [
    "import slearn.decomposition import PCA\n",
    "from sklearn.datasets import load_iris\n",
    "import numpy as np\n",
    "import matplotlib.pyplot as plt\n",
    "\n",
    "#loading the samole dataset\n",
    "iris = load_iris()\n",
    "X = iris.data\n",
    "\n",
    "#Fit PCA without limits\n",
    "pca = PCA().fit(X)"
   ]
  }
 ],
 "metadata": {
  "kernelspec": {
   "display_name": "Python [conda env:base] *",
   "language": "python",
   "name": "conda-base-py"
  },
  "language_info": {
   "codemirror_mode": {
    "name": "ipython",
    "version": 3
   },
   "file_extension": ".py",
   "mimetype": "text/x-python",
   "name": "python",
   "nbconvert_exporter": "python",
   "pygments_lexer": "ipython3",
   "version": "3.13.5"
  }
 },
 "nbformat": 4,
 "nbformat_minor": 5
}
