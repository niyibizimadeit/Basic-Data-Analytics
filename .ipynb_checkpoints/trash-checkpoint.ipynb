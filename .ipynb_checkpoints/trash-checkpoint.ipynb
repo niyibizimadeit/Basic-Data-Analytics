{
 "cells": [
  {
   "cell_type": "code",
   "execution_count": 1,
   "id": "fa99a9f3-f09f-41df-a3d6-f67b08ade1dc",
   "metadata": {},
   "outputs": [
    {
     "name": "stdout",
     "output_type": "stream",
     "text": [
      "gay ass nigga\n"
     ]
    }
   ],
   "source": [
    "print(\"gay ass nigga\")"
   ]
  },
  {
   "cell_type": "code",
   "execution_count": 2,
   "id": "de35564f-5672-46c1-bb93-df9f8ece702d",
   "metadata": {},
   "outputs": [
    {
     "name": "stdout",
     "output_type": "stream",
     "text": [
      "gay\n",
      "gay\n",
      "gay\n",
      "gay\n",
      "gay\n",
      "gay\n",
      "gay\n",
      "gay\n",
      "gay\n",
      "gay\n"
     ]
    }
   ],
   "source": [
    "for i in range(10):\n",
    "    print(\"gay\")"
   ]
  },
  {
   "cell_type": "code",
   "execution_count": null,
   "id": "04018d7c-aa46-45bb-9899-2a7f0027e022",
   "metadata": {},
   "outputs": [],
   "source": []
  }
 ],
 "metadata": {
  "kernelspec": {
   "display_name": "Python [conda env:base] *",
   "language": "python",
   "name": "conda-base-py"
  },
  "language_info": {
   "codemirror_mode": {
    "name": "ipython",
    "version": 3
   },
   "file_extension": ".py",
   "mimetype": "text/x-python",
   "name": "python",
   "nbconvert_exporter": "python",
   "pygments_lexer": "ipython3",
   "version": "3.13.5"
  }
 },
 "nbformat": 4,
 "nbformat_minor": 5
}
