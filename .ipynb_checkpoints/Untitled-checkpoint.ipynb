{
 "cells": [
  {
   "cell_type": "code",
   "execution_count": 10,
   "id": "4a4a63d5-7a48-4163-9d2b-1896e3fe355d",
   "metadata": {},
   "outputs": [
    {
     "name": "stdout",
     "output_type": "stream",
     "text": [
      "Accuracy:  0.9320175438596491\n",
      "\n",
      "Confusion Matrix:  [[143  27]\n",
      " [  4 282]]\n",
      "\n",
      "Classification Report:                precision    recall  f1-score   support\n",
      "\n",
      "           0       0.97      0.84      0.90       170\n",
      "           1       0.91      0.99      0.95       286\n",
      "\n",
      "    accuracy                           0.93       456\n",
      "   macro avg       0.94      0.91      0.93       456\n",
      "weighted avg       0.94      0.93      0.93       456\n",
      "\n"
     ]
    }
   ],
   "source": [
    "from sklearn.datasets import load_breast_cancer\n",
    "from sklearn.model_selection import train_test_split\n",
    "from sklearn.linear_model import LogisticRegression\n",
    "from sklearn.metrics import accuracy_score, confusion_matrix, classification_report\n",
    "import pandas as pd\n",
    "\n",
    "#Loading data\n",
    "data = load_breast_cancer()\n",
    "X, y = data.data, data.target\n",
    "\n",
    "#Splitting data\n",
    "X_train, X_test, y_train, y_test = train_test_split(X, y, test_size = 0.8, random_state=42, stratify=y)\n",
    "\n",
    "#Training Logistic Regression model\n",
    "model = LogisticRegression(max_iter=5000)\n",
    "model.fit(X_train, y_train)\n",
    "\n",
    "#predicting\n",
    "y_pred = model.predict(X_test)\n",
    "\n",
    "#Evaluation\n",
    "print(\"Accuracy: \", accuracy_score(y_test, y_pred))\n",
    "print(\"\\nConfusion Matrix: \", confusion_matrix(y_test, y_pred))\n",
    "print(\"\\nClassification Report: \", classification_report(y_test, y_pred))\n"
   ]
  },
  {
   "cell_type": "code",
   "execution_count": null,
   "id": "8ada0c35-c819-4a77-a1ae-3effd9c6efc7",
   "metadata": {},
   "outputs": [],
   "source": []
  }
 ],
 "metadata": {
  "kernelspec": {
   "display_name": "Python [conda env:base] *",
   "language": "python",
   "name": "conda-base-py"
  },
  "language_info": {
   "codemirror_mode": {
    "name": "ipython",
    "version": 3
   },
   "file_extension": ".py",
   "mimetype": "text/x-python",
   "name": "python",
   "nbconvert_exporter": "python",
   "pygments_lexer": "ipython3",
   "version": "3.13.5"
  }
 },
 "nbformat": 4,
 "nbformat_minor": 5
}
