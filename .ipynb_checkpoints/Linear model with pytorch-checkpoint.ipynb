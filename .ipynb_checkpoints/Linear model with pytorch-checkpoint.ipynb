{
 "cells": [
  {
   "cell_type": "code",
   "execution_count": 3,
   "id": "cf1c4b75-bd1b-4f52-bdb6-81e0f68d183c",
   "metadata": {},
   "outputs": [
    {
     "name": "stdout",
     "output_type": "stream",
     "text": [
      "Learned weight:  2.0068976879119873\n",
      "Learned bias:  1.0099611282348633\n"
     ]
    }
   ],
   "source": [
    "import torch\n",
    "import torch.nn as nn\n",
    "import torch.optim as optim\n",
    "\n",
    "#Creating fake data y=2x + 1\n",
    "x = torch.unsqueeze(torch.linspace(-1, 1, 100), dim=1) #shape [100,1]\n",
    "y = 2 * x + 1 + 0.1 * torch.randn(x.size()) #add a little noise\n",
    "\n",
    "#Defining a linear model y = w*x + b\n",
    "model = nn.Linear(1,1) #input 1, and output 1\n",
    "\n",
    "#Loss function and optimizer\n",
    "criterion = nn.MSELoss()\n",
    "optimizer = optim.SGD(model.parameters(), lr=0.1)\n",
    "\n",
    "#Training Loop\n",
    "for epoch in range(100):\n",
    "    y_pred = model(x)\n",
    "    loss = criterion(y_pred, y)\n",
    "    optimizer.zero_grad()\n",
    "    loss.backward()\n",
    "    optimizer.step()\n",
    "\n",
    "#Check learned weight and bias\n",
    "[w, b] = model.parameters()\n",
    "print(\"Learned weight: \", w.item())\n",
    "print(\"Learned bias: \", b.item())\n"
   ]
  },
  {
   "cell_type": "code",
   "execution_count": null,
   "id": "4ff4a22e-51fe-4e03-a6c5-9310e4aa223f",
   "metadata": {},
   "outputs": [],
   "source": []
  }
 ],
 "metadata": {
  "kernelspec": {
   "display_name": "Python [conda env:base] *",
   "language": "python",
   "name": "conda-base-py"
  },
  "language_info": {
   "codemirror_mode": {
    "name": "ipython",
    "version": 3
   },
   "file_extension": ".py",
   "mimetype": "text/x-python",
   "name": "python",
   "nbconvert_exporter": "python",
   "pygments_lexer": "ipython3",
   "version": "3.13.5"
  }
 },
 "nbformat": 4,
 "nbformat_minor": 5
}
