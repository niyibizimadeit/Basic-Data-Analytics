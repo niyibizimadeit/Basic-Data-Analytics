{
 "cells": [
  {
   "cell_type": "code",
   "execution_count": 7,
   "id": "f5009ca8-955f-4011-9cf8-25d3b21c6f80",
   "metadata": {},
   "outputs": [
    {
     "ename": "SyntaxError",
     "evalue": "invalid syntax. Maybe you meant '==' or ':=' instead of '='? (928753752.py, line 12)",
     "output_type": "error",
     "traceback": [
      "\u001b[0;36m  Cell \u001b[0;32mIn[7], line 12\u001b[0;36m\u001b[0m\n\u001b[0;31m    X_train, y_train, X_test, y_test= train_test_split((X, y, test_size = 0.2, random_state=42)\u001b[0m\n\u001b[0m                                                              ^\u001b[0m\n\u001b[0;31mSyntaxError\u001b[0m\u001b[0;31m:\u001b[0m invalid syntax. Maybe you meant '==' or ':=' instead of '='?\n"
     ]
    }
   ],
   "source": [
    "import pandas as pd\n",
    "import matplotlib.pyplot as plt\n",
    "from sklearn.model_selection import train_test_split\n",
    "\n",
    "\n",
    "housing = pd.read_csv(\"datasets/housing/housing.csv\")\n",
    "X = housing.data\n",
    "y = housing.target\n",
    "\n",
    "df = pd.concat([X, y], axis = 1)\n",
    "\n",
    "X_train, y_train, X_test, y_test= train_test_split((X, y, test_size = 0.2, random_state=42)"
   ]
  },
  {
   "cell_type": "markdown",
   "id": "fff92a05-e356-4ad6-ac49-a170e988000d",
   "metadata": {},
   "source": [
    "#rewind"
   ]
  },
  {
   "cell_type": "code",
   "execution_count": null,
   "id": "615f0f6e-1e8e-48e3-b04b-fa38d391373d",
   "metadata": {},
   "outputs": [],
   "source": []
  }
 ],
 "metadata": {
  "kernelspec": {
   "display_name": "Python [conda env:base] *",
   "language": "python",
   "name": "conda-base-py"
  },
  "language_info": {
   "codemirror_mode": {
    "name": "ipython",
    "version": 3
   },
   "file_extension": ".py",
   "mimetype": "text/x-python",
   "name": "python",
   "nbconvert_exporter": "python",
   "pygments_lexer": "ipython3",
   "version": "3.13.5"
  }
 },
 "nbformat": 4,
 "nbformat_minor": 5
}
