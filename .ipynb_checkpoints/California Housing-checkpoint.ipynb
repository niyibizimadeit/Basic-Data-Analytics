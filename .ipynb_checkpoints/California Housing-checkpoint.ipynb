{
 "cells": [
  {
   "cell_type": "code",
   "execution_count": 19,
   "id": "32eb19bc-3619-4fc4-b390-0b17848ed78f",
   "metadata": {},
   "outputs": [
    {
     "name": "stdout",
     "output_type": "stream",
     "text": [
      "R2 Score: 0.596054650433006\n",
      "Mean Absolute Error: 0.528942661428345\n",
      "Mean Squared Error: 0.5293336127912477\n",
      "Root Mean Squared Error: 0.727553168360394\n"
     ]
    }
   ],
   "source": [
    "from sklearn.datasets import fetch_california_housing\n",
    "import pandas as pd\n",
    "from sklearn.model_selection import train_test_split\n",
    "from sklearn.linear_model import LinearRegression\n",
    "from sklearn.metrics import mean_absolute_error, mean_squared_error, r2_score\n",
    "import numpy as np\n",
    "\n",
    "#fetch the Housing data\n",
    "housing = fetch_california_housing(as_frame = True)\n",
    "\n",
    "#set Features(X) and Target(y)\n",
    "X = housing.data\n",
    "y = housing.target\n",
    "\n",
    "#Combine into one dataframe\n",
    "df = pd.concat([X, y], axis = 1)\n",
    "\n",
    "#Split the data into 80% for training and 20% for testing\n",
    "X_train, X_test, y_train, y_test = train_test_split(X, y, test_size = 0.2, random_state = 42)\n",
    "\n",
    "# Initialize the model\n",
    "model = LinearRegression()\n",
    "\n",
    "#fit on training data\n",
    "model.fit(X_test, y_test)\n",
    "\n",
    "#predict y on test set\n",
    "y_pred = model.predict(X_test)\n",
    "\n",
    "#Compare the actual test values and the model predictions\n",
    "comparisons = pd.DataFrame({\"Actual\": y_test, \"Predicted\": y_pred})\n",
    "\n",
    "#Model metrics\n",
    "mae = mean_absolute_error(y_test, y_pred)\n",
    "mse = mean_squared_error(y_test, y_pred)\n",
    "rmse = np.sqrt(mse)\n",
    "r2 = r2_score(y_test, y_pred)\n",
    "\n",
    "\n",
    "print(f\"R2 Score: {r2}\\nMean Absolute Error: {mae}\\nMean Squared Error: {mse}\\nRoot Mean Squared Error: {rmse}\")"
   ]
  },
  {
   "cell_type": "code",
   "execution_count": null,
   "id": "005841ec-ace6-4c2b-bfad-3e54069f3b66",
   "metadata": {},
   "outputs": [],
   "source": []
  }
 ],
 "metadata": {
  "kernelspec": {
   "display_name": "Python [conda env:base] *",
   "language": "python",
   "name": "conda-base-py"
  },
  "language_info": {
   "codemirror_mode": {
    "name": "ipython",
    "version": 3
   },
   "file_extension": ".py",
   "mimetype": "text/x-python",
   "name": "python",
   "nbconvert_exporter": "python",
   "pygments_lexer": "ipython3",
   "version": "3.13.5"
  }
 },
 "nbformat": 4,
 "nbformat_minor": 5
}
