{
 "cells": [
  {
   "cell_type": "code",
   "execution_count": 16,
   "id": "32eb19bc-3619-4fc4-b390-0b17848ed78f",
   "metadata": {},
   "outputs": [
    {
     "name": "stdout",
     "output_type": "stream",
     "text": [
      "        Actual  Predicted\n",
      "20046  0.47700   0.726704\n",
      "3024   0.45800   1.789601\n",
      "15663  5.00001   2.682138\n",
      "20484  2.18600   2.823329\n",
      "9814   2.78000   2.672884\n",
      "...        ...        ...\n",
      "15362  2.63300   2.078225\n",
      "16623  2.66800   2.329061\n",
      "18086  5.00001   4.397262\n",
      "2144   0.72300   1.279552\n",
      "3665   1.51500   1.953838\n",
      "\n",
      "[4128 rows x 2 columns]\n"
     ]
    }
   ],
   "source": [
    "from sklearn.datasets import fetch_california_housing\n",
    "import pandas as pd\n",
    "from sklearn.model_selection import train_test_split\n",
    "from sklearn.linear_model import LinearRegression\n",
    "\n",
    "#fetch the Housing data\n",
    "housing = fetch_california_housing(as_frame = True)\n",
    "\n",
    "#set Features(X) and Target(y)\n",
    "X = housing.data\n",
    "y = housing.target\n",
    "\n",
    "#Combine into one dataframe\n",
    "df = pd.concat([X, y], axis = 1)\n",
    "\n",
    "#Split the data into 80% for training and 20% for testing\n",
    "X_train, X_test, y_train, y_test = train_test_split(X, y, test_size = 0.2, random_state = 42)\n",
    "\n",
    "# Initialize the model\n",
    "model = LinearRegression()\n",
    "\n",
    "#fit on training data\n",
    "model.fit(X_test, y_test)\n",
    "\n",
    "#predict y on test set\n",
    "y_pred = model.predict(X_test)\n",
    "\n",
    "#Compare the actual test values and the model predictions\n",
    "comparisons = pd.DataFrame({\"Actual\": y_test, \"Predicted\": y_pred})\n",
    "print(comparisons)"
   ]
  },
  {
   "cell_type": "code",
   "execution_count": null,
   "id": "005841ec-ace6-4c2b-bfad-3e54069f3b66",
   "metadata": {},
   "outputs": [],
   "source": []
  }
 ],
 "metadata": {
  "kernelspec": {
   "display_name": "Python [conda env:base] *",
   "language": "python",
   "name": "conda-base-py"
  },
  "language_info": {
   "codemirror_mode": {
    "name": "ipython",
    "version": 3
   },
   "file_extension": ".py",
   "mimetype": "text/x-python",
   "name": "python",
   "nbconvert_exporter": "python",
   "pygments_lexer": "ipython3",
   "version": "3.13.5"
  }
 },
 "nbformat": 4,
 "nbformat_minor": 5
}
