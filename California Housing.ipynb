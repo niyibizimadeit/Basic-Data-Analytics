{
 "cells": [
  {
   "cell_type": "code",
   "execution_count": 14,
   "id": "32eb19bc-3619-4fc4-b390-0b17848ed78f",
   "metadata": {},
   "outputs": [
    {
     "ename": "NameError",
     "evalue": "name 'comparison' is not defined",
     "output_type": "error",
     "traceback": [
      "\u001b[0;31m---------------------------------------------------------------------------\u001b[0m",
      "\u001b[0;31mNameError\u001b[0m                                 Traceback (most recent call last)",
      "Cell \u001b[0;32mIn[14], line 30\u001b[0m\n\u001b[1;32m     28\u001b[0m \u001b[38;5;66;03m#Compare the actual test values and the model predictions\u001b[39;00m\n\u001b[1;32m     29\u001b[0m comparisons \u001b[38;5;241m=\u001b[39m pd\u001b[38;5;241m.\u001b[39mDataFrame({\u001b[38;5;124m\"\u001b[39m\u001b[38;5;124mActual\u001b[39m\u001b[38;5;124m\"\u001b[39m: y_test, \u001b[38;5;124m\"\u001b[39m\u001b[38;5;124mPredicted\u001b[39m\u001b[38;5;124m\"\u001b[39m: y_pred})\n\u001b[0;32m---> 30\u001b[0m \u001b[38;5;28mprint\u001b[39m(comparison\u001b[38;5;241m.\u001b[39mhead())\n",
      "\u001b[0;31mNameError\u001b[0m: name 'comparison' is not defined"
     ]
    }
   ],
   "source": [
    "from sklearn.datasets import fetch_california_housing\n",
    "import pandas as pd\n",
    "from sklearn.model_selection import train_test_split\n",
    "from sklearn.linear_model import LinearRegression\n",
    "\n",
    "#fetch the Housing data\n",
    "housing = fetch_california_housing(as_frame = True)\n",
    "\n",
    "#set Features(X) and Target(y)\n",
    "X = housing.data\n",
    "y = housing.target\n",
    "\n",
    "#Combine into one dataframe\n",
    "df = pd.concat([X, y], axis = 1)\n",
    "\n",
    "#Split the data into 80% for training and 20% for testing\n",
    "X_train, X_test, y_train, y_test = train_test_split(X, y, test_size = 0.2, random_state = 42)\n",
    "\n",
    "# Initialize the model\n",
    "model = LinearRegression()\n",
    "\n",
    "#fit on training data\n",
    "model.fit(X_test, y_test)\n",
    "\n",
    "#predict y on test set\n",
    "y_pred = model.predict(X_test)\n",
    "\n",
    "#Compare the actual test values and the model predictions\n",
    "comparisons = pd.DataFrame({\"Actual\": y_test, \"Predicted\": y_pred})\n",
    "print(comparison.head())"
   ]
  },
  {
   "cell_type": "code",
   "execution_count": null,
   "id": "005841ec-ace6-4c2b-bfad-3e54069f3b66",
   "metadata": {},
   "outputs": [],
   "source": []
  }
 ],
 "metadata": {
  "kernelspec": {
   "display_name": "Python [conda env:base] *",
   "language": "python",
   "name": "conda-base-py"
  },
  "language_info": {
   "codemirror_mode": {
    "name": "ipython",
    "version": 3
   },
   "file_extension": ".py",
   "mimetype": "text/x-python",
   "name": "python",
   "nbconvert_exporter": "python",
   "pygments_lexer": "ipython3",
   "version": "3.13.5"
  }
 },
 "nbformat": 4,
 "nbformat_minor": 5
}
