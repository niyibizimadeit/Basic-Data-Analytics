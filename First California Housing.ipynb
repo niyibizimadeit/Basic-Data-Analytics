{
 "cells": [
  {
   "cell_type": "markdown",
   "id": "6141da74-7b4d-4d8d-afe6-0b11b637ab41",
   "metadata": {},
   "source": [
    "#importing libraries"
   ]
  },
  {
   "cell_type": "code",
   "execution_count": 18,
   "id": "f5009ca8-955f-4011-9cf8-25d3b21c6f80",
   "metadata": {},
   "outputs": [
    {
     "name": "stdout",
     "output_type": "stream",
     "text": [
      "metrics with linear regeression\n",
      "\n",
      "R2 Score: 0.575787706032451\n",
      "Mean Absolute Error: 0.5332001304956563\n",
      "Mean Squared Error: 0.5558915986952442\n",
      "Root Mean Squared Error: 0.7455813830127763\n",
      "\n",
      "\n",
      "\n",
      "Metrics with Scaling(Linear Regression)\n",
      "\n",
      "R2 Score: 0.575787706032451\n",
      "Mean Absolute Error: 0.5332001304956562\n",
      "Mean Squared Error: 0.5558915986952442\n",
      "Root Mean Squared Error: 0.7455813830127763\n",
      "\n",
      "\n",
      "\n"
     ]
    }
   ],
   "source": [
    "from sklearn.datasets import fetch_california_housing\n",
    "import pandas as pd\n",
    "from sklearn.model_selection import train_test_split, GridSearchCV, RandomizedSearchCV\n",
    "from sklearn.linear_model import LinearRegression\n",
    "from sklearn.preprocessing import StandardScaler\n",
    "from sklearn.pipeline import make_pipeline\n",
    "from sklearn.tree import DecisionTreeRegressor\n",
    "from sklearn.ensemble import RandomForestRegressor, GradientBoostingRegressor, StackingRegressor\n",
    "from xgboost import XGBRegressor\n",
    "from sklearn.metrics import mean_absolute_error, mean_squared_error, r2_score\n",
    "import numpy as np\n",
    "\n",
    "#fetching housing data\n",
    "housing = fetch_california_housing(as_frame = True)\n",
    "#Set features and target\n",
    "X = housing.data\n",
    "y = housing.target\n",
    "\n",
    "#Combine into one dataframe\n",
    "df = pd.concat([X,y], axis = 1)\n",
    "\n",
    "#Split the data into training and testing sets\n",
    "X_train, X_test, y_train, y_test = train_test_split(X, y, test_size = 0.20, random_state = 42)\n",
    "\n",
    "#Initialize the model\n",
    "\n",
    "#Linear Regression\n",
    "model = LinearRegression()\n",
    "\n",
    "#fit on training data\n",
    "model.fit(X_train, y_train)\n",
    "\n",
    "#predict y\n",
    "y_pred = model.predict(X_test)\n",
    "\n",
    "#compare test values and model predictions\n",
    "comparisons = pd.DataFrame({\"Actual\": y_test, \"Predicted\": y_pred})\n",
    "\n",
    "#model metrics with plain Linear regression\n",
    "print(\"metrics with linear regeression\\n\")\n",
    "mae = mean_absolute_error(y_test, y_pred)\n",
    "mse = mean_squared_error(y_test, y_pred)\n",
    "rmse = np.sqrt(mse)\n",
    "r2_l = r2_score(y_test, y_pred)\n",
    "\n",
    "print(f\"R2 Score: {r2_l}\\nMean Absolute Error: {mae}\\nMean Squared Error: {mse}\\nRoot Mean Squared Error: {rmse}\\n\\n\\n\")\n",
    "\n",
    "#using scaler\n",
    "scaler = StandardScaler()\n",
    "#train\n",
    "model_scaled = make_pipeline(scaler, LinearRegression())\n",
    "model_scaled.fit(X_train, y_train)\n",
    "#predict\n",
    "y_pred_scaled = model_scaled.predict(X_test) \n",
    "\n",
    "#Model metrics with scaling\n",
    "print(\"Metrics with Scaling(Linear Regression)\\n\")\n",
    "mae_scaled = mean_absolute_error(y_test, y_pred_scaled)\n",
    "mse_scaled = mean_squared_error(y_test, y_pred_scaled)\n",
    "rmse_scaled = np.sqrt(mse_scaled)\n",
    "r2_scaled = r2_score(y_test, y_pred_scaled)\n",
    "print(f\"R2 Score: {r2_scaled}\\nMean Absolute Error: {mae_scaled}\\nMean Squared Error: {mse_scaled}\\nRoot Mean Squared Error: {rmse_scaled}\\n\\n\\n\")\n",
    "\n",
    "\n",
    "#Using decision trees\n"
   ]
  },
  {
   "cell_type": "markdown",
   "id": "adbb28ba-925c-4d8a-b282-1520806e210e",
   "metadata": {},
   "source": []
  },
  {
   "cell_type": "code",
   "execution_count": null,
   "id": "63d3b1fd-8a4f-4ce6-8bac-fa37caee9a44",
   "metadata": {},
   "outputs": [],
   "source": []
  }
 ],
 "metadata": {
  "kernelspec": {
   "display_name": "Python [conda env:base] *",
   "language": "python",
   "name": "conda-base-py"
  },
  "language_info": {
   "codemirror_mode": {
    "name": "ipython",
    "version": 3
   },
   "file_extension": ".py",
   "mimetype": "text/x-python",
   "name": "python",
   "nbconvert_exporter": "python",
   "pygments_lexer": "ipython3",
   "version": "3.13.5"
  }
 },
 "nbformat": 4,
 "nbformat_minor": 5
}
