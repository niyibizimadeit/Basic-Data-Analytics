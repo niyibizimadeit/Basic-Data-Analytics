{
 "cells": [
  {
   "cell_type": "markdown",
   "id": "c99c2ac9-6cd1-4f05-839a-25a412e1a84d",
   "metadata": {},
   "source": [
    "#Student Score Analysis"
   ]
  },
  {
   "cell_type": "code",
   "execution_count": null,
   "id": "c92525c1-83cf-44cb-80d4-4453f205a4a7",
   "metadata": {},
   "outputs": [],
   "source": [
    "import numpy as np\n",
    "import pandas as pd\n",
    "\n",
    "#setting seed for reproducibility\n",
    "np.random.seed(42)\n",
    "\n",
    "#number of students\n",
    "n_students = 100\n",
    "\n",
    "#Generate features\n",
    "hours_studied = np.random.\n"
   ]
  }
 ],
 "metadata": {
  "kernelspec": {
   "display_name": "Python [conda env:base] *",
   "language": "python",
   "name": "conda-base-py"
  },
  "language_info": {
   "codemirror_mode": {
    "name": "ipython",
    "version": 3
   },
   "file_extension": ".py",
   "mimetype": "text/x-python",
   "name": "python",
   "nbconvert_exporter": "python",
   "pygments_lexer": "ipython3",
   "version": "3.13.5"
  }
 },
 "nbformat": 4,
 "nbformat_minor": 5
}
