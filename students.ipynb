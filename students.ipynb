{
 "cells": [
  {
   "cell_type": "markdown",
   "id": "c99c2ac9-6cd1-4f05-839a-25a412e1a84d",
   "metadata": {},
   "source": [
    "#Student Score Analysis"
   ]
  },
  {
   "cell_type": "code",
   "execution_count": 37,
   "id": "c92525c1-83cf-44cb-80d4-4453f205a4a7",
   "metadata": {},
   "outputs": [
    {
     "data": {
      "image/png": "[encoded data removed]",
      "text/plain": [
       "<Figure size 640x480 with 1 Axes>"
      ]
     },
     "metadata": {},
     "output_type": "display_data"
    }
   ],
   "source": [
    "import numpy as np\n",
    "import pandas as pd\n",
    "import matplotlib.pyplot as plt\n",
    "import seaborn as sns\n",
    "\n",
    "#setting seed for reproducibility, and why not 42 since its the answer to the question to the ultimate question of life\n",
    "np.random.seed(42)\n",
    "\n",
    "#number of students\n",
    "n_students = 100\n",
    "\n",
    "#Generating features\n",
    "hours_studied = np.random.randint(1, 11, n_students)\n",
    "practice_tests = np.random.randint(0, 6, n_students)\n",
    "sleep_hours = np.random.randint(5, 11, n_students)\n",
    "\n",
    "score = (\n",
    "    hours_studied * 5 +     #weight for study hours\n",
    "    practice_tests * 4 +    #weight for practice test\n",
    "    sleep_hours * 3 +       #weight for sleep hours\n",
    "    np.random.normal(0, 5, n_students) #random noise\n",
    ")\n",
    "\n",
    "#clipping scores between 0 and 100\n",
    "score = np.clip(score, 0, 100)\n",
    "\n",
    "#Creating a Data Frame\n",
    "df = pd.DataFrame({\n",
    "    \"hours_studied\": hours_studied,\n",
    "    \"practice_tests\": practice_tests,\n",
    "    \"sleep_hours\": sleep_hours,\n",
    "    \"score\": score\n",
    "})\n",
    "\n",
    "plt.hist(df)\n",
    "plt.title(\"Feature Distribution\")\n",
    "plt.show()\n"
   ]
  },
  {
   "cell_type": "markdown",
   "id": "02ef211e-14d8-4195-8772-60e24d7b44c8",
   "metadata": {},
   "source": [
    "#Data Frame Details "
   ]
  },
  {
   "cell_type": "code",
   "execution_count": 18,
   "id": "7dd623b0-d786-4c6a-8daf-b8f7bf071049",
   "metadata": {},
   "outputs": [
    {
     "name": "stdout",
     "output_type": "stream",
     "text": [
      "   hours_studied  practice_tests  sleep_hours      score\n",
      "0              7               3            8  68.687366\n",
      "1              4               1           10  48.437513\n",
      "2              8               0            9  71.336147\n",
      "3              5               5            5  64.792069\n",
      "4              7               4            5  68.090593\n"
     ]
    }
   ],
   "source": [
    "print(df.head())"
   ]
  },
  {
   "cell_type": "code",
   "execution_count": 20,
   "id": "e6eeb414-53cc-4853-b6cb-25f60dc1505d",
   "metadata": {},
   "outputs": [
    {
     "name": "stdout",
     "output_type": "stream",
     "text": [
      "Shape:  (100, 4)\n"
     ]
    }
   ],
   "source": [
    "# print shape of the data frame\n",
    "print(\"Shape: \", df.shape)"
   ]
  },
  {
   "cell_type": "code",
   "execution_count": 23,
   "id": "dd6a0f66-ef4c-4f8d-95f5-84191ad2a7fb",
   "metadata": {},
   "outputs": [
    {
     "name": "stdout",
     "output_type": "stream",
     "text": [
      "<class 'pandas.core.frame.DataFrame'>\n",
      "RangeIndex: 100 entries, 0 to 99\n",
      "Data columns (total 4 columns):\n",
      " #   Column          Non-Null Count  Dtype  \n",
      "---  ------          --------------  -----  \n",
      " 0   hours_studied   100 non-null    int64  \n",
      " 1   practice_tests  100 non-null    int64  \n",
      " 2   sleep_hours     100 non-null    int64  \n",
      " 3   score           100 non-null    float64\n",
      "dtypes: float64(1), int64(3)\n",
      "memory usage: 3.3 KB\n",
      "info None\n"
     ]
    }
   ],
   "source": [
    "#Detailed info about the Data Frame\n",
    "print(\"info\", df.info())"
   ]
  },
  {
   "cell_type": "code",
   "execution_count": 25,
   "id": "7e3a26c6-114b-4b7d-9153-925bee68b21e",
   "metadata": {},
   "outputs": [
    {
     "name": "stdout",
     "output_type": "stream",
     "text": [
      "Stats: \n",
      "        hours_studied  practice_tests  sleep_hours       score\n",
      "count     100.000000      100.000000   100.000000  100.000000\n",
      "mean        5.910000        2.430000     7.310000   61.153628\n",
      "std         2.871296        1.753813     1.715615   15.852119\n",
      "min         1.000000        0.000000     5.000000   23.035586\n",
      "25%         3.000000        1.000000     6.000000   49.706204\n",
      "50%         6.000000        2.000000     7.000000   63.665678\n",
      "75%         8.000000        4.000000     8.250000   73.795285\n",
      "max        10.000000        5.000000    10.000000   88.594431\n"
     ]
    }
   ],
   "source": [
    "#Descriptive Statistics \n",
    "print(\"Stats: \\n\", df.describe())"
   ]
  },
  {
   "cell_type": "code",
   "execution_count": null,
   "id": "34800d59-93f6-4173-9d0c-c8b34c40be7c",
   "metadata": {},
   "outputs": [],
   "source": []
  },
  {
   "cell_type": "code",
   "execution_count": null,
   "id": "69964e89-f0da-44f6-8ded-a668687973d4",
   "metadata": {},
   "outputs": [],
   "source": []
  }
 ],
 "metadata": {
  "kernelspec": {
   "display_name": "Python [conda env:base] *",
   "language": "python",
   "name": "conda-base-py"
  },
  "language_info": {
   "codemirror_mode": {
    "name": "ipython",
    "version": 3
   },
   "file_extension": ".py",
   "mimetype": "text/x-python",
   "name": "python",
   "nbconvert_exporter": "python",
   "pygments_lexer": "ipython3",
   "version": "3.13.5"
  }
 },
 "nbformat": 4,
 "nbformat_minor": 5
}
