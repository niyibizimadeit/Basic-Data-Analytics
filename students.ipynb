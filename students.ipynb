{
 "cells": [
  {
   "cell_type": "markdown",
   "id": "c99c2ac9-6cd1-4f05-839a-25a412e1a84d",
   "metadata": {},
   "source": [
    "#Student Score Analysis"
   ]
  },
  {
   "cell_type": "code",
   "execution_count": 17,
   "id": "c92525c1-83cf-44cb-80d4-4453f205a4a7",
   "metadata": {},
   "outputs": [
    {
     "name": "stdout",
     "output_type": "stream",
     "text": [
      "    hours_studied  practice_tests  sleep_hours      score\n",
      "0               7               3            8  68.687366\n",
      "1               4               1           10  48.437513\n",
      "2               8               0            9  71.336147\n",
      "3               5               5            5  64.792069\n",
      "4               7               4            5  68.090593\n",
      "..            ...             ...          ...        ...\n",
      "95             10               0            5  65.420818\n",
      "96              9               2            8  81.863164\n",
      "97              7               0            5  57.722374\n",
      "98              9               1           10  80.720341\n",
      "99              8               1            9  75.631163\n",
      "\n",
      "[100 rows x 4 columns]\n"
     ]
    }
   ],
   "source": [
    "import numpy as np\n",
    "import pandas as pd\n",
    "\n",
    "#setting seed for reproducibility, and why not 42 since its the answer to the question to the ultimate question of life\n",
    "np.random.seed(42)\n",
    "\n",
    "#number of students\n",
    "n_students = 100\n",
    "\n",
    "#Generating features\n",
    "hours_studied = np.random.randint(1, 11, n_students)\n",
    "practice_tests = np.random.randint(0, 6, n_students)\n",
    "sleep_hours = np.random.randint(5, 11, n_students)\n",
    "\n",
    "score = (\n",
    "    hours_studied * 5 +     #weight for study hours\n",
    "    practice_tests * 4 +    #weight for practice test\n",
    "    sleep_hours * 3 +       #weight for sleep hours\n",
    "    np.random.normal(0, 5, n_students) #random noise\n",
    ")\n",
    "\n",
    "#clipping scores between 0 and 100\n",
    "score = np.clip(score, 0, 100)\n",
    "\n",
    "#Creating a Data Frame\n",
    "df = pd.DataFrame({\n",
    "    \"hours_studied\": hours_studied,\n",
    "    \"practice_tests\": practice_tests,\n",
    "    \"sleep_hours\": sleep_hours,\n",
    "    \"score\": score\n",
    "})\n",
    "\n",
    "\n",
    "print(df)"
   ]
  },
  {
   "cell_type": "code",
   "execution_count": null,
   "id": "e6eeb414-53cc-4853-b6cb-25f60dc1505d",
   "metadata": {},
   "outputs": [],
   "source": []
  },
  {
   "cell_type": "code",
   "execution_count": null,
   "id": "dd6a0f66-ef4c-4f8d-95f5-84191ad2a7fb",
   "metadata": {},
   "outputs": [],
   "source": []
  },
  {
   "cell_type": "code",
   "execution_count": null,
   "id": "7e3a26c6-114b-4b7d-9153-925bee68b21e",
   "metadata": {},
   "outputs": [],
   "source": []
  },
  {
   "cell_type": "code",
   "execution_count": null,
   "id": "34800d59-93f6-4173-9d0c-c8b34c40be7c",
   "metadata": {},
   "outputs": [],
   "source": []
  }
 ],
 "metadata": {
  "kernelspec": {
   "display_name": "Python [conda env:base] *",
   "language": "python",
   "name": "conda-base-py"
  },
  "language_info": {
   "codemirror_mode": {
    "name": "ipython",
    "version": 3
   },
   "file_extension": ".py",
   "mimetype": "text/x-python",
   "name": "python",
   "nbconvert_exporter": "python",
   "pygments_lexer": "ipython3",
   "version": "3.13.5"
  }
 },
 "nbformat": 4,
 "nbformat_minor": 5
}
