{
 "cells": [
  {
   "cell_type": "markdown",
   "id": "c99c2ac9-6cd1-4f05-839a-25a412e1a84d",
   "metadata": {},
   "source": [
    "#Student Score Analysis"
   ]
  },
  {
   "cell_type": "code",
   "execution_count": 2,
   "id": "c92525c1-83cf-44cb-80d4-4453f205a4a7",
   "metadata": {},
   "outputs": [
    {
     "ename": "NameError",
     "evalue": "name 'score' is not defined",
     "output_type": "error",
     "traceback": [
      "\u001b[0;31m---------------------------------------------------------------------------\u001b[0m",
      "\u001b[0;31mNameError\u001b[0m                                 Traceback (most recent call last)",
      "Cell \u001b[0;32mIn[2], line 23\u001b[0m\n\u001b[1;32m     15\u001b[0m scores \u001b[38;5;241m=\u001b[39m (\n\u001b[1;32m     16\u001b[0m     hours_studied \u001b[38;5;241m*\u001b[39m \u001b[38;5;241m5\u001b[39m \u001b[38;5;241m+\u001b[39m     \u001b[38;5;66;03m#weight for study hours\u001b[39;00m\n\u001b[1;32m     17\u001b[0m     practice_tests \u001b[38;5;241m*\u001b[39m \u001b[38;5;241m4\u001b[39m \u001b[38;5;241m+\u001b[39m    \u001b[38;5;66;03m#weight for practice test\u001b[39;00m\n\u001b[1;32m     18\u001b[0m     sleep_hours \u001b[38;5;241m*\u001b[39m \u001b[38;5;241m3\u001b[39m \u001b[38;5;241m+\u001b[39m       \u001b[38;5;66;03m#weight for sleep hours\u001b[39;00m\n\u001b[1;32m     19\u001b[0m     np\u001b[38;5;241m.\u001b[39mrandom\u001b[38;5;241m.\u001b[39mnormal(\u001b[38;5;241m0\u001b[39m, \u001b[38;5;241m5\u001b[39m, n_students) \u001b[38;5;66;03m#random noise\u001b[39;00m\n\u001b[1;32m     20\u001b[0m )\n\u001b[1;32m     22\u001b[0m \u001b[38;5;66;03m#clipping scores between 0 and 100\u001b[39;00m\n\u001b[0;32m---> 23\u001b[0m score \u001b[38;5;241m=\u001b[39m np\u001b[38;5;241m.\u001b[39mclip(score, \u001b[38;5;241m0\u001b[39m, \u001b[38;5;241m100\u001b[39m)\n\u001b[1;32m     25\u001b[0m \u001b[38;5;66;03m#Creating a Data Frame\u001b[39;00m\n\u001b[1;32m     26\u001b[0m df \u001b[38;5;241m=\u001b[39m pd\u001b[38;5;241m.\u001b[39mDataFrame({\n\u001b[1;32m     27\u001b[0m     \u001b[38;5;124m\"\u001b[39m\u001b[38;5;124mhours_studied\u001b[39m\u001b[38;5;124m\"\u001b[39m: hours_studied,\n\u001b[1;32m     28\u001b[0m     \u001b[38;5;124m\"\u001b[39m\u001b[38;5;124mpractice_tests\u001b[39m\u001b[38;5;124m\"\u001b[39m: practice_tests,\n\u001b[1;32m     29\u001b[0m     \u001b[38;5;124m\"\u001b[39m\u001b[38;5;124msleep_hours\u001b[39m\u001b[38;5;124m\"\u001b[39m: sleep_hours,\n\u001b[1;32m     30\u001b[0m     \u001b[38;5;124m\"\u001b[39m\u001b[38;5;124mscore\u001b[39m\u001b[38;5;124m\"\u001b[39m: score\n\u001b[1;32m     31\u001b[0m })\n",
      "\u001b[0;31mNameError\u001b[0m: name 'score' is not defined"
     ]
    }
   ],
   "source": [
    "import numpy as np\n",
    "import pandas as pd\n",
    "\n",
    "#setting seed for reproducibility\n",
    "np.random.seed(42)\n",
    "\n",
    "#number of students\n",
    "n_students = 100\n",
    "\n",
    "#Generating features\n",
    "hours_studied = np.random.randint(1, 11, n_students)\n",
    "practice_tests = np.random.randint(0, 6, n_students)\n",
    "sleep_hours = np.random.randint(5, 11, n_students)\n",
    "\n",
    "score = (\n",
    "    hours_studied * 5 +     #weight for study hours\n",
    "    practice_tests * 4 +    #weight for practice test\n",
    "    sleep_hours * 3 +       #weight for sleep hours\n",
    "    np.random.normal(0, 5, n_students) #random noise\n",
    ")\n",
    "\n",
    "#clipping scores between 0 and 100\n",
    "score = np.clip(score, 0, 100)\n",
    "\n",
    "#Creating a Data Frame\n",
    "df = pd.DataFrame({\n",
    "    \"hours_studied\": hours_studied,\n",
    "    \"practice_tests\": practice_tests,\n",
    "    \"sleep_hours\": sleep_hours,\n",
    "    \"score\": score\n",
    "})\n",
    "\n",
    "\n",
    "print(df)"
   ]
  },
  {
   "cell_type": "code",
   "execution_count": null,
   "id": "e6eeb414-53cc-4853-b6cb-25f60dc1505d",
   "metadata": {},
   "outputs": [],
   "source": []
  }
 ],
 "metadata": {
  "kernelspec": {
   "display_name": "Python [conda env:base] *",
   "language": "python",
   "name": "conda-base-py"
  },
  "language_info": {
   "codemirror_mode": {
    "name": "ipython",
    "version": 3
   },
   "file_extension": ".py",
   "mimetype": "text/x-python",
   "name": "python",
   "nbconvert_exporter": "python",
   "pygments_lexer": "ipython3",
   "version": "3.13.5"
  }
 },
 "nbformat": 4,
 "nbformat_minor": 5
}
