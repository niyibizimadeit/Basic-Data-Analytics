{
 "cells": [
  {
   "cell_type": "code",
   "execution_count": null,
   "id": "cadd7d4e-d53e-458e-a6c1-abc9b925f2b3",
   "metadata": {},
   "outputs": [],
   "source": []
  }
 ],
 "metadata": {
  "kernelspec": {
   "display_name": "",
   "name": ""
  },
  "language_info": {
   "name": ""
  }
 },
 "nbformat": 4,
 "nbformat_minor": 5
}
